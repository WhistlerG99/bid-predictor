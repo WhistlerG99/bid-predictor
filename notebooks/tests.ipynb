{
 "cells": [
  {
   "cell_type": "code",
   "execution_count": 3,
   "id": "b66cfb3d",
   "metadata": {},
   "outputs": [],
   "source": [
    "import os\n",
    "from pathlib import Path\n",
    "\n",
    "\n",
    "def in_sagemaker() -> bool:\n",
    "    env = os.environ\n",
    "    return (\n",
    "        Path(\"/opt/ml\").exists() or  # any SageMaker job container\n",
    "        any(k in env for k in (\n",
    "            # Studio / Notebook\n",
    "            \"SAGEMAKER_DOMAIN_ID\", \"SAGEMAKER_USER_PROFILE_NAME\",\n",
    "            \"SAGEMAKER_NOTEBOOK_INSTANCE_NAME\", \"SAGEMAKER_NOTEBOOK_ARN\",\n",
    "            # Common job signals\n",
    "            \"SM_TRAINING_ENV\", \"TRAINING_JOB_NAME\", \"SM_HOSTS\",\n",
    "            \"PROCESSING_JOB_NAME\", \"SM_PROCESSING_ENV\",\n",
    "            \"SAGEMAKER_INFERENCE\"\n",
    "        ))\n",
    "    )"
   ]
  },
  {
   "cell_type": "code",
   "execution_count": 4,
   "id": "a5170d3c",
   "metadata": {},
   "outputs": [
    {
     "data": {
      "text/plain": [
       "False"
      ]
     },
     "execution_count": 4,
     "metadata": {},
     "output_type": "execute_result"
    }
   ],
   "source": [
    "in_sagemaker()"
   ]
  }
 ],
 "metadata": {
  "kernelspec": {
   "display_name": "myenv",
   "language": "python",
   "name": "python3"
  },
  "language_info": {
   "codemirror_mode": {
    "name": "ipython",
    "version": 3
   },
   "file_extension": ".py",
   "mimetype": "text/x-python",
   "name": "python",
   "nbconvert_exporter": "python",
   "pygments_lexer": "ipython3",
   "version": "3.11.13"
  }
 },
 "nbformat": 4,
 "nbformat_minor": 5
}
